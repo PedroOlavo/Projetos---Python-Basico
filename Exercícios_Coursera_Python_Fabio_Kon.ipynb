{
  "nbformat": 4,
  "nbformat_minor": 0,
  "metadata": {
    "colab": {
      "name": "Exercícios Coursera - Python - Fabio Kon.ipynb",
      "provenance": [],
      "authorship_tag": "ABX9TyMs0drEqDg2foCtPuKhELfq",
      "include_colab_link": true
    },
    "kernelspec": {
      "name": "python3",
      "display_name": "Python 3"
    }
  },
  "cells": [
    {
      "cell_type": "markdown",
      "metadata": {
        "id": "view-in-github",
        "colab_type": "text"
      },
      "source": [
        "<a href=\"https://colab.research.google.com/github/PedroOlavo/Projetos---Python-Basico/blob/main/Exerc%C3%ADcios_Coursera_Python_Fabio_Kon.ipynb\" target=\"_parent\"><img src=\"https://colab.research.google.com/assets/colab-badge.svg\" alt=\"Open In Colab\"/></a>"
      ]
    },
    {
      "cell_type": "markdown",
      "metadata": {
        "id": "iTx0BRUACSv6"
      },
      "source": [
        "# Exercícios\r\n",
        "\r\n",
        "Este notebook contém alguns exercícios desenvolvidos no curso Introdução a Ciência da Computação com python, ministrado pelo professor Fábio Kon.\r\n",
        "\r\n",
        "Espero que sirva de ajuda para alguém.\r\n",
        "\r\n",
        "Se está aqui, conecte-se comigo no [LinkedIn](https://www.linkedin.com/in/pedro-olavo-sousa-201b9a1b0/).\r\n",
        "\r\n",
        "Conheça também meu [Medium](https://medium.com/@pedroolavosousa), lá publico artigos diversos sobre ciência de dados."
      ]
    },
    {
      "cell_type": "code",
      "metadata": {
        "colab": {
          "base_uri": "https://localhost:8080/"
        },
        "id": "GGDrXR0g_eGu",
        "outputId": "76018142-f49d-4c23-d923-2bd2e564110e"
      },
      "source": [
        "notas = []\r\n",
        "for i in range(4):\r\n",
        "  print('Insira abaixo a nota da sua avaliçaõ número ', (i+1))\r\n",
        "  nota = float(input(''))\r\n",
        "  notas.append(nota)\r\n",
        "\r\n",
        "notas = np.array(notas)\r\n",
        "media = (notas.mean()).round(1)\r\n",
        "print('Sua média foi: ', media)\r\n"
      ],
      "execution_count": null,
      "outputs": [
        {
          "output_type": "stream",
          "text": [
            "Insira abaixo a nota da sua avaliçaõ número  1\n",
            "8\n",
            "Insira abaixo a nota da sua avaliçaõ número  2\n",
            "2\n",
            "Insira abaixo a nota da sua avaliçaõ número  3\n",
            "6\n",
            "Insira abaixo a nota da sua avaliçaõ número  4\n",
            "7\n",
            "Sua média foi:  5.8\n"
          ],
          "name": "stdout"
        }
      ]
    },
    {
      "cell_type": "code",
      "metadata": {
        "colab": {
          "base_uri": "https://localhost:8080/"
        },
        "id": "17r2QDeUFvFK",
        "outputId": "8a2e768e-3549-4270-dbe7-88ab3345ff9f"
      },
      "source": [
        "segundos = int(input('Digite o numero total de segundos '))\r\n",
        "\r\n",
        "dias = segundos//86400\r\n",
        "\r\n",
        "sobra1 = segundos%86400 #está em dias\r\n",
        "\r\n",
        "horas = sobra1//(3600)\r\n",
        "\r\n",
        "sobra2 = sobra1%3600 #estava em horas e passou pra minutos\r\n",
        "\r\n",
        "minutos = sobra2//60\r\n",
        "\r\n",
        "sobra3 = sobra2%60 #tava em minutos e passou pra segundos\r\n",
        "\r\n",
        "segundos_f = sobra3\r\n",
        "print(dias, 'Dias', horas, 'horas', minutos, 'minutos', segundos_f, 'segundos')"
      ],
      "execution_count": null,
      "outputs": [
        {
          "output_type": "stream",
          "text": [
            "Digite o numero total de segundos 18062\n",
            "0 Dias 5 horas 1 minutos 2 segundos\n"
          ],
          "name": "stdout"
        }
      ]
    },
    {
      "cell_type": "code",
      "metadata": {
        "id": "RPhCfmJksOvT"
      },
      "source": [
        "import math"
      ],
      "execution_count": null,
      "outputs": []
    },
    {
      "cell_type": "code",
      "metadata": {
        "colab": {
          "base_uri": "https://localhost:8080/"
        },
        "id": "H7B1ywPisR0E",
        "outputId": "e2f87d8b-afb1-4768-acf6-231fcdac1536"
      },
      "source": [
        "print('Seja uma função do segundo grau:' \r\n",
        "      '\\n ax^2*bx+c')\r\n",
        "\r\n",
        "print('\\n')\r\n",
        "a = float(input('Digite o valor do coeficiente a: '))\r\n",
        "b = float(input('Digite o valor do coeficiente b: '))\r\n",
        "c = float(input('Digite o valor do coeficiente c: '))\r\n",
        "\r\n",
        "delta = (b**2) - 4 * a * c\r\n",
        "\r\n",
        "if delta == 0:\r\n",
        "  print('A função tem duas raízes reais iguais.', delta)\r\n",
        "elif delta < 0:\r\n",
        "  print('A função não tem raízes reais.')\r\n",
        "else:\r\n",
        "  print('A função tem duas raízes reais distintas.')"
      ],
      "execution_count": null,
      "outputs": [
        {
          "output_type": "stream",
          "text": [
            "Seja uma função do segundo grau:\n",
            " ax^2*bx+c\n",
            "\n",
            "\n",
            "Digite o valor do coeficiente a: 1\n",
            "Digite o valor do coeficiente b: 4\n",
            "Digite o valor do coeficiente c: 4\n",
            "A função tem duas raízes reais iguais. 0.0\n"
          ],
          "name": "stdout"
        }
      ]
    },
    {
      "cell_type": "code",
      "metadata": {
        "colab": {
          "base_uri": "https://localhost:8080/"
        },
        "id": "eBwXV_FLU6Gw",
        "outputId": "fa1a2d73-1aff-4d68-df8d-3126bcdde38b"
      },
      "source": [
        "n = int(input('Digite um número natural: '))\r\n",
        "\r\n",
        "if n <=0 :\r\n",
        "  print('Número inválido.')\r\n",
        "  n = int(input('Digite um número válido, ele deve ser maior que 0.'))\r\n",
        "\r\n",
        "fatorial = 1\r\n",
        "\r\n",
        "while n != 1:\r\n",
        "  fatorial = fatorial * n \r\n",
        "  n = n - 1\r\n",
        "\r\n",
        "print(fatorial)"
      ],
      "execution_count": 1,
      "outputs": [
        {
          "output_type": "stream",
          "text": [
            "Digite um número natural: 4\n",
            "24\n"
          ],
          "name": "stdout"
        }
      ]
    },
    {
      "cell_type": "code",
      "metadata": {
        "colab": {
          "base_uri": "https://localhost:8080/"
        },
        "id": "ai7zPXBKaB23",
        "outputId": "32b6ccaf-56ca-43a1-a0eb-1e502a2e6c1c"
      },
      "source": [
        "n = int(input('Digite um número natural: '))\r\n",
        "\r\n",
        "i = 1\r\n",
        "\r\n",
        "while n != 0:\r\n",
        "  print(i)\r\n",
        "  i = i + 2\r\n",
        "  n = n - 1\r\n",
        " "
      ],
      "execution_count": null,
      "outputs": [
        {
          "output_type": "stream",
          "text": [
            "Digite um número natural: 0\n"
          ],
          "name": "stdout"
        }
      ]
    },
    {
      "cell_type": "code",
      "metadata": {
        "colab": {
          "base_uri": "https://localhost:8080/"
        },
        "id": "GgAFVKNAdcrD",
        "outputId": "3a406de7-5b3a-46e0-9015-73970e5773f3"
      },
      "source": [
        "n = input('Digite um número natural: ')\r\n",
        "\r\n",
        "i = len(n)\r\n",
        "soma = 0\r\n",
        "\r\n",
        "while i != 0:\r\n",
        "  num = int(n[i-1])\r\n",
        "  soma = soma + num\r\n",
        "  i = i - 1\r\n",
        "\r\n",
        "print(soma)"
      ],
      "execution_count": null,
      "outputs": [
        {
          "output_type": "stream",
          "text": [
            "Digite um número natural: 54\n",
            "9\n"
          ],
          "name": "stdout"
        }
      ]
    },
    {
      "cell_type": "code",
      "metadata": {
        "id": "zXEr57h1PnL0"
      },
      "source": [
        "def soma(num1, num2):\r\n",
        "  x = num1 + num2\r\n",
        "  return x"
      ],
      "execution_count": null,
      "outputs": []
    },
    {
      "cell_type": "code",
      "metadata": {
        "colab": {
          "base_uri": "https://localhost:8080/"
        },
        "id": "rv9R61hNDL_H",
        "outputId": "90e3d744-64cf-4463-c894-2e28db54830a"
      },
      "source": [
        "x = int(input('Digite um numero inteiro: '))\r\n",
        "\r\n",
        "y = str(x)\r\n",
        "\r\n",
        "if abs(x) < 10:\r\n",
        "  print('O algarismo das dezenas é 0.')\r\n",
        "else:\r\n",
        "  print('O algarismo na casa das dezenas é ', y[-2])\r\n"
      ],
      "execution_count": null,
      "outputs": [
        {
          "output_type": "stream",
          "text": [
            "Digite um numero inteiro: 3\n",
            "O algarismo das dezenas é 0.\n"
          ],
          "name": "stdout"
        }
      ]
    },
    {
      "cell_type": "code",
      "metadata": {
        "colab": {
          "base_uri": "https://localhost:8080/"
        },
        "id": "_ruGEoln4yIZ",
        "outputId": "7645b622-b6fa-42fc-cbe8-1130fb55256d"
      },
      "source": [
        "import math\r\n",
        "\r\n",
        "x1 = float(input('Insira a coordeenada x do primeiro ponto: '))\r\n",
        "y1 = float(input('Insira a coordenada y do primeiro ponto: '))\r\n",
        "\r\n",
        "x2 = float(input('Insira a coordenada x do segundo ponto: '))\r\n",
        "y2 = float(input('Insira a coordenada y do segundo ponto: '))\r\n",
        "\r\n",
        "distancia = math.sqrt(((x1-x2)**2 + (y1-y2)**2))\r\n",
        "\r\n",
        "if distancia < 10:\r\n",
        "  print('Perto')\r\n",
        "else:\r\n",
        "  print('Longe')"
      ],
      "execution_count": null,
      "outputs": [
        {
          "output_type": "stream",
          "text": [
            "Insira a coordeenada x do primeiro ponto: 1\n",
            "Insira a coordenada y do primeiro ponto: 4\n",
            "Insira a coordenada x do segundo ponto: 2\n",
            "Insira a coordenada y do segundo ponto: 3\n",
            "Perto\n"
          ],
          "name": "stdout"
        }
      ]
    },
    {
      "cell_type": "code",
      "metadata": {
        "id": "1ccYOiME-sQI"
      },
      "source": [
        "def leitura():\r\n",
        "  x = int(input('Digite um numero'))\r\n",
        "  while x <= 0:\r\n",
        "    x = int(input('Digite um numero'))\r\n",
        "  return x\r\n",
        "\r\n"
      ],
      "execution_count": null,
      "outputs": []
    },
    {
      "cell_type": "code",
      "metadata": {
        "colab": {
          "base_uri": "https://localhost:8080/"
        },
        "id": "Q1bWez_m_-5c",
        "outputId": "ce6e656b-d6d2-4f07-c433-e9bbdc8d5c93"
      },
      "source": [
        "leitura()"
      ],
      "execution_count": null,
      "outputs": [
        {
          "output_type": "stream",
          "text": [
            "Digite um numero-5\n",
            "Digite um numero5\n"
          ],
          "name": "stdout"
        },
        {
          "output_type": "execute_result",
          "data": {
            "text/plain": [
              "5"
            ]
          },
          "metadata": {
            "tags": []
          },
          "execution_count": 40
        }
      ]
    },
    {
      "cell_type": "code",
      "metadata": {
        "id": "1C8RpM8ACvy0"
      },
      "source": [
        "def fatorial(x):\r\n",
        "  fat = 1\r\n",
        "  while x > 1:\r\n",
        "    fat = fat * x\r\n",
        "    x = x - 1\r\n",
        "  return fat"
      ],
      "execution_count": null,
      "outputs": []
    },
    {
      "cell_type": "code",
      "metadata": {
        "colab": {
          "base_uri": "https://localhost:8080/"
        },
        "id": "0xh4GfJPJcCS",
        "outputId": "6c57dbd3-393b-4e8c-f378-d49649e83949"
      },
      "source": [
        "fatorial(5)"
      ],
      "execution_count": null,
      "outputs": [
        {
          "output_type": "execute_result",
          "data": {
            "text/plain": [
              "120"
            ]
          },
          "metadata": {
            "tags": []
          },
          "execution_count": 47
        }
      ]
    },
    {
      "cell_type": "code",
      "metadata": {
        "id": "hz-TUVTcJe91"
      },
      "source": [
        "def num_bi(x,y):\r\n",
        "  num = fatorial(x)\r\n",
        "  div1 = fatorial(y)\r\n",
        "  div2 = fatorial(x-y)\r\n",
        "  h = num/(div1*div2)\r\n",
        "  return h"
      ],
      "execution_count": null,
      "outputs": []
    },
    {
      "cell_type": "code",
      "metadata": {
        "colab": {
          "base_uri": "https://localhost:8080/"
        },
        "id": "lFzCsy-HJ3wv",
        "outputId": "4fc258e4-1a49-4008-e98a-31da2989454a"
      },
      "source": [
        "num_bi(20,10)"
      ],
      "execution_count": null,
      "outputs": [
        {
          "output_type": "execute_result",
          "data": {
            "text/plain": [
              "184756.0"
            ]
          },
          "metadata": {
            "tags": []
          },
          "execution_count": 64
        }
      ]
    },
    {
      "cell_type": "code",
      "metadata": {
        "id": "_tW8KwQJ97EE"
      },
      "source": [
        "def maximo(a,b):\r\n",
        "  if a > b:\r\n",
        "    return a\r\n",
        "  elif a==b:\r\n",
        "    return a\r\n",
        "  else: \r\n",
        "    return b"
      ],
      "execution_count": null,
      "outputs": []
    },
    {
      "cell_type": "code",
      "metadata": {
        "colab": {
          "base_uri": "https://localhost:8080/"
        },
        "id": "1vwmAbvr7-Yz",
        "outputId": "28498002-9924-49a5-e0a8-d482d5210ae8"
      },
      "source": [
        "maximo(5,7)"
      ],
      "execution_count": null,
      "outputs": [
        {
          "output_type": "execute_result",
          "data": {
            "text/plain": [
              "7"
            ]
          },
          "metadata": {
            "tags": []
          },
          "execution_count": 6
        }
      ]
    },
    {
      "cell_type": "code",
      "metadata": {
        "id": "kbSS7uiV-O2Q"
      },
      "source": [
        "def primo(x):\r\n",
        "  fator = 2\r\n",
        "  import math\r\n",
        "  primos = [1,2,3]\r\n",
        "  if x in primos:\r\n",
        "    return True\r\n",
        "  while x % fator != 0 and fator <= (math.sqrt(x)):\r\n",
        "    fator = fator + 1\r\n",
        "  if x % fator == 0:\r\n",
        "    return False\r\n",
        "  else:\r\n",
        "    return True"
      ],
      "execution_count": null,
      "outputs": []
    },
    {
      "cell_type": "code",
      "metadata": {
        "id": "SWfFNuGMGp-w"
      },
      "source": [
        "def maior_primo(x):\r\n",
        "  if x <= 0:\r\n",
        "    x = int(input('Digite um número maior que 0. '))\r\n",
        "  lista = []\r\n",
        "  while x >= 2:\r\n",
        "    if primo(x):\r\n",
        "      lista.append(x)\r\n",
        "    x = x - 1\r\n",
        "  return lista[0]\r\n"
      ],
      "execution_count": null,
      "outputs": []
    },
    {
      "cell_type": "code",
      "metadata": {
        "colab": {
          "base_uri": "https://localhost:8080/"
        },
        "id": "2l_L-VAsIOvd",
        "outputId": "5e1db3a6-2a14-4c73-b8ac-3938de29deff"
      },
      "source": [
        "maior_primo(100)"
      ],
      "execution_count": null,
      "outputs": [
        {
          "output_type": "execute_result",
          "data": {
            "text/plain": [
              "97"
            ]
          },
          "metadata": {
            "tags": []
          },
          "execution_count": 39
        }
      ]
    },
    {
      "cell_type": "code",
      "metadata": {
        "id": "cV7f8EzTIQw9"
      },
      "source": [
        "def vogal(x):\r\n",
        "  vogais = ['a', 'e', 'i', 'o', 'u', 'A', 'E', 'I', 'O', 'U']\r\n",
        "  if x in vogais:\r\n",
        "    return True\r\n",
        "  else:\r\n",
        "    return False"
      ],
      "execution_count": null,
      "outputs": []
    },
    {
      "cell_type": "code",
      "metadata": {
        "id": "WbaC5DjJgPtp",
        "colab": {
          "base_uri": "https://localhost:8080/"
        },
        "outputId": "daaca523-31b9-4a2b-ae10-894c7d800b02"
      },
      "source": [
        "h = int(input('Digite a altura do seu retângulo: '))\r\n",
        "l = int(input('Digite a largura do seu retângulo: '))\r\n",
        "while h > 0:\r\n",
        "  print('#'*l, flush=True)\r\n",
        "  h = h - 1\r\n",
        "  "
      ],
      "execution_count": null,
      "outputs": [
        {
          "output_type": "stream",
          "text": [
            "Digite a altura do seu retângulo: 5\n",
            "Digite a largura do seu retângulo: 5\n",
            "#####\n",
            "#####\n",
            "#####\n",
            "#####\n",
            "#####\n"
          ],
          "name": "stdout"
        }
      ]
    },
    {
      "cell_type": "code",
      "metadata": {
        "colab": {
          "base_uri": "https://localhost:8080/"
        },
        "id": "NT1WQuhRVBlM",
        "outputId": "6c963801-23cb-45a2-da92-98eb9c2794f8"
      },
      "source": [
        "h = int(input('Digite a altura do seu retângulo: '))\r\n",
        "l = int(input('Digite a largura do seu retângulo: '))\r\n",
        "x = h\r\n",
        "while x > 0:\r\n",
        "  if x == h:\r\n",
        "    print('#'*l)\r\n",
        "  elif x==1:\r\n",
        "    print('#'*l)\r\n",
        "  else:\r\n",
        "    y = l - 2\r\n",
        "    print('#'+' '*y+'#')\r\n",
        "  x = x - 1"
      ],
      "execution_count": null,
      "outputs": [
        {
          "output_type": "stream",
          "text": [
            "Digite a altura do seu retângulo: 5\n",
            "Digite a largura do seu retângulo: 5\n",
            "#####\n",
            "#   #\n",
            "#   #\n",
            "#   #\n",
            "#####\n"
          ],
          "name": "stdout"
        }
      ]
    },
    {
      "cell_type": "code",
      "metadata": {
        "id": "g_278CPzjski"
      },
      "source": [
        "def remove_repetidos(lista):\r\n",
        "  repetidos = []\r\n",
        "  lista = sorted(lista)\r\n",
        "  i = 1\r\n",
        "  for i in range(len(lista)):\r\n",
        "    x = lista[i]\r\n",
        "    y = lista[i-1]\r\n",
        "    if x == y:\r\n",
        "      repetidos.append(x)\r\n",
        "  for rep in repetidos:\r\n",
        "    aux = rep\r\n",
        "    lista.remove(aux)\r\n",
        "  y = lista\r\n",
        "  return y\r\n"
      ],
      "execution_count": null,
      "outputs": []
    },
    {
      "cell_type": "code",
      "metadata": {
        "colab": {
          "base_uri": "https://localhost:8080/"
        },
        "id": "vrcO2nY_7Km1",
        "outputId": "694d9503-9323-4983-87c2-914f50a35a41"
      },
      "source": [
        "x = [11,2,3,11,2,8,14,15,4,5,6,2,6,7,8,8,9,10,11]\r\n",
        "remove_repetidos(x)"
      ],
      "execution_count": null,
      "outputs": [
        {
          "output_type": "execute_result",
          "data": {
            "text/plain": [
              "[2, 3, 4, 5, 6, 7, 8, 9, 10, 11, 14, 15]"
            ]
          },
          "metadata": {
            "tags": []
          },
          "execution_count": 36
        }
      ]
    },
    {
      "cell_type": "code",
      "metadata": {
        "id": "PF2WfQreGyw6"
      },
      "source": [
        "def soma_elementos(lista):\r\n",
        "  #soma = sum(lista)\r\n",
        "  soma = 0\r\n",
        "  for i in lista:\r\n",
        "    soma = soma + i\r\n",
        "  return soma"
      ],
      "execution_count": null,
      "outputs": []
    },
    {
      "cell_type": "code",
      "metadata": {
        "id": "ninQ-sOpHBv3",
        "colab": {
          "base_uri": "https://localhost:8080/"
        },
        "outputId": "c6672a4e-6fe6-4109-b2fd-4459541e516e"
      },
      "source": [
        "inteiro = input('Digite um número inteiro: ')\r\n",
        "\r\n",
        "i = 0\r\n",
        "aux3 = 0\r\n",
        "while (i < len(inteiro) and aux3 != 1):\r\n",
        "  aux1 = inteiro[i]\r\n",
        "  aux2 = inteiro[i-1]\r\n",
        "  if aux1 == aux2:\r\n",
        "    print('Sim.')\r\n",
        "    aux3 = 1\r\n",
        "  i = i + 1\r\n",
        "if aux3 != 1:\r\n",
        "  print('Não.')"
      ],
      "execution_count": null,
      "outputs": [
        {
          "output_type": "stream",
          "text": [
            "Digite um número inteiro: 456687998\n",
            "Sim.\n"
          ],
          "name": "stdout"
        }
      ]
    }
  ]
}